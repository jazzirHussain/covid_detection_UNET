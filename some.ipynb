{
 "cells": [
  {
   "cell_type": "code",
   "execution_count": 11,
   "metadata": {},
   "outputs": [],
   "source": [
    "import nibabel as nib\n",
    "from PIL import Image\n",
    "import numpy as np\n",
    "\n",
    "# Load the NIfTI file\n",
    "nifti_file = nib.load('dataset/lung_nii/coronacases_org_004.nii')\n",
    "\n",
    "# Get the image data\n",
    "image_data = nifti_file.get_fdata()\n",
    "\n",
    "# Normalize the pixel values to the range [0, 255]\n",
    "normalized_data = (image_data - np.min(image_data)) / (np.max(image_data) - np.min(image_data)) * 255\n",
    "\n",
    "# Convert the data type to uint8\n",
    "image_data_uint8 = normalized_data.astype(np.uint8)\n",
    "\n",
    "# Save each slice as a PNG image\n",
    "for i in range(image_data_uint8.shape[2]):\n",
    "    # Extract the current slice\n",
    "    slice_data = image_data_uint8[:, :, i]\n",
    "    \n",
    "    # Create a PIL image from the slice\n",
    "    image = Image.fromarray(slice_data, mode='L')  # 'L' indicates grayscale mode\n",
    "    \n",
    "    # Save the image as PNG\n",
    "    image.save(f'dataset/images/004_output_{i}.png')\n"
   ]
  },
  {
   "cell_type": "code",
   "execution_count": 10,
   "metadata": {},
   "outputs": [],
   "source": [
    "import nibabel as nib\n",
    "from PIL import Image\n",
    "import numpy as np\n",
    "\n",
    "# Load the NIfTI file\n",
    "nifti_file = nib.load('dataset/masks_nii/coronacases_004.nii')\n",
    "\n",
    "# Get the image data\n",
    "image_data = nifti_file.get_fdata()\n",
    "\n",
    "# Normalize the pixel values to the range [0, 255]\n",
    "normalized_data = (image_data - np.min(image_data)) / (np.max(image_data) - np.min(image_data)) * 255\n",
    "\n",
    "# Convert the data type to uint8\n",
    "image_data_uint8 = normalized_data.astype(np.uint8)\n",
    "\n",
    "# Save each slice as a PNG image\n",
    "for i in range(image_data_uint8.shape[2]):\n",
    "    # Extract the current slice\n",
    "    slice_data = image_data_uint8[:, :, i]\n",
    "    \n",
    "    # Create a PIL image from the slice\n",
    "    image = Image.fromarray(slice_data, mode='L')  # 'L' indicates grayscale mode\n",
    "    \n",
    "    # Save the image as PNG\n",
    "    image.save(f'dataset/masks/004_output_{i}.png')\n"
   ]
  }
 ],
 "metadata": {
  "kernelspec": {
   "display_name": "Python 3",
   "language": "python",
   "name": "python3"
  },
  "language_info": {
   "codemirror_mode": {
    "name": "ipython",
    "version": 3
   },
   "file_extension": ".py",
   "mimetype": "text/x-python",
   "name": "python",
   "nbconvert_exporter": "python",
   "pygments_lexer": "ipython3",
   "version": "3.10.9"
  },
  "orig_nbformat": 4
 },
 "nbformat": 4,
 "nbformat_minor": 2
}
